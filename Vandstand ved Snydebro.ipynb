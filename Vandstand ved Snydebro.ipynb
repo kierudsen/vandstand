{
 "cells": [
  {
   "cell_type": "markdown",
   "metadata": {},
   "source": [
    "## Kort intro til databehandling\n",
    "\n",
    "Dette er blot en lille introduktion til at arbejde med data.\n",
    "Jeg tager udgangspunkt i tilgængelig data fra Miljøportalen. Da jeg er ansat i Egedal Kommune, er det nærliggende at kigge på Værebro Å."
   ]
  },
  {
   "cell_type": "markdown",
   "metadata": {},
   "source": [
    "Lad os starte med at se på vandstandsmålinger ved Snydebro:"
   ]
  },
  {
   "cell_type": "code",
   "execution_count": 19,
   "metadata": {},
   "outputs": [
    {
     "data": {
      "text/html": [
       "<div>\n",
       "<style scoped>\n",
       "    .dataframe tbody tr th:only-of-type {\n",
       "        vertical-align: middle;\n",
       "    }\n",
       "\n",
       "    .dataframe tbody tr th {\n",
       "        vertical-align: top;\n",
       "    }\n",
       "\n",
       "    .dataframe thead th {\n",
       "        text-align: right;\n",
       "    }\n",
       "</style>\n",
       "<table border=\"1\" class=\"dataframe\">\n",
       "  <thead>\n",
       "    <tr style=\"text-align: right;\">\n",
       "      <th></th>\n",
       "      <th>Stationsnr;Stationsnavn;StationensLokalitet;Stationsejer;GeoZone;Xutm;Yutm;Dato;Parameter;Resultat;Enhedsnavn;Kvalitetssikring;Kvalitetsstatus</th>\n",
       "    </tr>\n",
       "  </thead>\n",
       "  <tbody>\n",
       "    <tr>\n",
       "      <th>0</th>\n",
       "      <td>520299;Snydebro;Værebro å;Egedal kommune;32;70...</td>\n",
       "    </tr>\n",
       "    <tr>\n",
       "      <th>1</th>\n",
       "      <td>520299;Snydebro;Værebro å;Egedal kommune;32;70...</td>\n",
       "    </tr>\n",
       "    <tr>\n",
       "      <th>2</th>\n",
       "      <td>520299;Snydebro;Værebro å;Egedal kommune;32;70...</td>\n",
       "    </tr>\n",
       "    <tr>\n",
       "      <th>3</th>\n",
       "      <td>520299;Snydebro;Værebro å;Egedal kommune;32;70...</td>\n",
       "    </tr>\n",
       "    <tr>\n",
       "      <th>4</th>\n",
       "      <td>520299;Snydebro;Værebro å;Egedal kommune;32;70...</td>\n",
       "    </tr>\n",
       "  </tbody>\n",
       "</table>\n",
       "</div>"
      ],
      "text/plain": [
       "  Stationsnr;Stationsnavn;StationensLokalitet;Stationsejer;GeoZone;Xutm;Yutm;Dato;Parameter;Resultat;Enhedsnavn;Kvalitetssikring;Kvalitetsstatus\n",
       "0  520299;Snydebro;Værebro å;Egedal kommune;32;70...                                                                                            \n",
       "1  520299;Snydebro;Værebro å;Egedal kommune;32;70...                                                                                            \n",
       "2  520299;Snydebro;Værebro å;Egedal kommune;32;70...                                                                                            \n",
       "3  520299;Snydebro;Værebro å;Egedal kommune;32;70...                                                                                            \n",
       "4  520299;Snydebro;Værebro å;Egedal kommune;32;70...                                                                                            "
      ]
     },
     "execution_count": 19,
     "metadata": {},
     "output_type": "execute_result"
    }
   ],
   "source": [
    "import pandas as pd\n",
    "\n",
    "vst = pd.read_csv('VandstandCSV.csv')\n",
    "vst.head() # Lad os nøjes med de første 5 resultater, da der er over 300 rækker"
   ]
  },
  {
   "cell_type": "markdown",
   "metadata": {},
   "source": [
    "Det ser lidt rodet ud. Lad gøre det lidt pænere:"
   ]
  },
  {
   "cell_type": "code",
   "execution_count": 20,
   "metadata": {},
   "outputs": [
    {
     "data": {
      "text/html": [
       "<div>\n",
       "<style scoped>\n",
       "    .dataframe tbody tr th:only-of-type {\n",
       "        vertical-align: middle;\n",
       "    }\n",
       "\n",
       "    .dataframe tbody tr th {\n",
       "        vertical-align: top;\n",
       "    }\n",
       "\n",
       "    .dataframe thead th {\n",
       "        text-align: right;\n",
       "    }\n",
       "</style>\n",
       "<table border=\"1\" class=\"dataframe\">\n",
       "  <thead>\n",
       "    <tr style=\"text-align: right;\">\n",
       "      <th></th>\n",
       "      <th>Stationsnr</th>\n",
       "      <th>Stationsnavn</th>\n",
       "      <th>StationensLokalitet</th>\n",
       "      <th>Stationsejer</th>\n",
       "      <th>GeoZone</th>\n",
       "      <th>Xutm</th>\n",
       "      <th>Yutm</th>\n",
       "      <th>Dato</th>\n",
       "      <th>Parameter</th>\n",
       "      <th>Resultat</th>\n",
       "      <th>Enhedsnavn</th>\n",
       "      <th>Kvalitetssikring</th>\n",
       "      <th>Kvalitetsstatus</th>\n",
       "    </tr>\n",
       "  </thead>\n",
       "  <tbody>\n",
       "    <tr>\n",
       "      <th>0</th>\n",
       "      <td>520299</td>\n",
       "      <td>Snydebro</td>\n",
       "      <td>Værebro å</td>\n",
       "      <td>Egedal kommune</td>\n",
       "      <td>32</td>\n",
       "      <td>705175</td>\n",
       "      <td>6183431</td>\n",
       "      <td>2016-01-01</td>\n",
       "      <td>Vandstand</td>\n",
       "      <td>2.97</td>\n",
       "      <td>m</td>\n",
       "      <td>FagK</td>\n",
       "      <td>GODK</td>\n",
       "    </tr>\n",
       "    <tr>\n",
       "      <th>1</th>\n",
       "      <td>520299</td>\n",
       "      <td>Snydebro</td>\n",
       "      <td>Værebro å</td>\n",
       "      <td>Egedal kommune</td>\n",
       "      <td>32</td>\n",
       "      <td>705175</td>\n",
       "      <td>6183431</td>\n",
       "      <td>2016-01-02</td>\n",
       "      <td>Vandstand</td>\n",
       "      <td>2.90</td>\n",
       "      <td>m</td>\n",
       "      <td>FagK</td>\n",
       "      <td>GODK</td>\n",
       "    </tr>\n",
       "    <tr>\n",
       "      <th>2</th>\n",
       "      <td>520299</td>\n",
       "      <td>Snydebro</td>\n",
       "      <td>Værebro å</td>\n",
       "      <td>Egedal kommune</td>\n",
       "      <td>32</td>\n",
       "      <td>705175</td>\n",
       "      <td>6183431</td>\n",
       "      <td>2016-01-03</td>\n",
       "      <td>Vandstand</td>\n",
       "      <td>2.81</td>\n",
       "      <td>m</td>\n",
       "      <td>FagK</td>\n",
       "      <td>GODK</td>\n",
       "    </tr>\n",
       "    <tr>\n",
       "      <th>3</th>\n",
       "      <td>520299</td>\n",
       "      <td>Snydebro</td>\n",
       "      <td>Værebro å</td>\n",
       "      <td>Egedal kommune</td>\n",
       "      <td>32</td>\n",
       "      <td>705175</td>\n",
       "      <td>6183431</td>\n",
       "      <td>2016-01-04</td>\n",
       "      <td>Vandstand</td>\n",
       "      <td>2.73</td>\n",
       "      <td>m</td>\n",
       "      <td>FagK</td>\n",
       "      <td>GODK</td>\n",
       "    </tr>\n",
       "    <tr>\n",
       "      <th>4</th>\n",
       "      <td>520299</td>\n",
       "      <td>Snydebro</td>\n",
       "      <td>Værebro å</td>\n",
       "      <td>Egedal kommune</td>\n",
       "      <td>32</td>\n",
       "      <td>705175</td>\n",
       "      <td>6183431</td>\n",
       "      <td>2016-01-05</td>\n",
       "      <td>Vandstand</td>\n",
       "      <td>2.67</td>\n",
       "      <td>m</td>\n",
       "      <td>FagK</td>\n",
       "      <td>GODK</td>\n",
       "    </tr>\n",
       "  </tbody>\n",
       "</table>\n",
       "</div>"
      ],
      "text/plain": [
       "   Stationsnr Stationsnavn StationensLokalitet    Stationsejer  GeoZone  \\\n",
       "0      520299     Snydebro           Værebro å  Egedal kommune       32   \n",
       "1      520299     Snydebro           Værebro å  Egedal kommune       32   \n",
       "2      520299     Snydebro           Værebro å  Egedal kommune       32   \n",
       "3      520299     Snydebro           Værebro å  Egedal kommune       32   \n",
       "4      520299     Snydebro           Værebro å  Egedal kommune       32   \n",
       "\n",
       "     Xutm     Yutm        Dato  Parameter  Resultat Enhedsnavn  \\\n",
       "0  705175  6183431  2016-01-01  Vandstand      2.97          m   \n",
       "1  705175  6183431  2016-01-02  Vandstand      2.90          m   \n",
       "2  705175  6183431  2016-01-03  Vandstand      2.81          m   \n",
       "3  705175  6183431  2016-01-04  Vandstand      2.73          m   \n",
       "4  705175  6183431  2016-01-05  Vandstand      2.67          m   \n",
       "\n",
       "  Kvalitetssikring Kvalitetsstatus  \n",
       "0             FagK            GODK  \n",
       "1             FagK            GODK  \n",
       "2             FagK            GODK  \n",
       "3             FagK            GODK  \n",
       "4             FagK            GODK  "
      ]
     },
     "execution_count": 20,
     "metadata": {},
     "output_type": "execute_result"
    }
   ],
   "source": [
    "import pandas as pd\n",
    "\n",
    "vst = pd.read_csv('VandstandCSV.csv', sep=';')\n",
    "vst.head()"
   ]
  },
  {
   "cell_type": "markdown",
   "metadata": {},
   "source": [
    "Det var bedre. Her er en masse informationer, men mange af dem går igen og der er kun to kolonner der er interesante - 'Dato' og 'Resultat'.\n",
    "Lad os arrangere lidt på indholdet."
   ]
  },
  {
   "cell_type": "code",
   "execution_count": 23,
   "metadata": {},
   "outputs": [
    {
     "data": {
      "text/html": [
       "<div>\n",
       "<style scoped>\n",
       "    .dataframe tbody tr th:only-of-type {\n",
       "        vertical-align: middle;\n",
       "    }\n",
       "\n",
       "    .dataframe tbody tr th {\n",
       "        vertical-align: top;\n",
       "    }\n",
       "\n",
       "    .dataframe thead th {\n",
       "        text-align: right;\n",
       "    }\n",
       "</style>\n",
       "<table border=\"1\" class=\"dataframe\">\n",
       "  <thead>\n",
       "    <tr style=\"text-align: right;\">\n",
       "      <th></th>\n",
       "      <th>Stationsnr</th>\n",
       "      <th>Stationsnavn</th>\n",
       "      <th>StationensLokalitet</th>\n",
       "      <th>Stationsejer</th>\n",
       "      <th>GeoZone</th>\n",
       "      <th>Xutm</th>\n",
       "      <th>Yutm</th>\n",
       "      <th>Parameter</th>\n",
       "      <th>Resultat</th>\n",
       "      <th>Enhedsnavn</th>\n",
       "      <th>Kvalitetssikring</th>\n",
       "      <th>Kvalitetsstatus</th>\n",
       "    </tr>\n",
       "    <tr>\n",
       "      <th>Dato</th>\n",
       "      <th></th>\n",
       "      <th></th>\n",
       "      <th></th>\n",
       "      <th></th>\n",
       "      <th></th>\n",
       "      <th></th>\n",
       "      <th></th>\n",
       "      <th></th>\n",
       "      <th></th>\n",
       "      <th></th>\n",
       "      <th></th>\n",
       "      <th></th>\n",
       "    </tr>\n",
       "  </thead>\n",
       "  <tbody>\n",
       "    <tr>\n",
       "      <th>2016-01-01</th>\n",
       "      <td>520299</td>\n",
       "      <td>Snydebro</td>\n",
       "      <td>Værebro å</td>\n",
       "      <td>Egedal kommune</td>\n",
       "      <td>32</td>\n",
       "      <td>705175</td>\n",
       "      <td>6183431</td>\n",
       "      <td>Vandstand</td>\n",
       "      <td>2.97</td>\n",
       "      <td>m</td>\n",
       "      <td>FagK</td>\n",
       "      <td>GODK</td>\n",
       "    </tr>\n",
       "    <tr>\n",
       "      <th>2016-01-02</th>\n",
       "      <td>520299</td>\n",
       "      <td>Snydebro</td>\n",
       "      <td>Værebro å</td>\n",
       "      <td>Egedal kommune</td>\n",
       "      <td>32</td>\n",
       "      <td>705175</td>\n",
       "      <td>6183431</td>\n",
       "      <td>Vandstand</td>\n",
       "      <td>2.90</td>\n",
       "      <td>m</td>\n",
       "      <td>FagK</td>\n",
       "      <td>GODK</td>\n",
       "    </tr>\n",
       "    <tr>\n",
       "      <th>2016-01-03</th>\n",
       "      <td>520299</td>\n",
       "      <td>Snydebro</td>\n",
       "      <td>Værebro å</td>\n",
       "      <td>Egedal kommune</td>\n",
       "      <td>32</td>\n",
       "      <td>705175</td>\n",
       "      <td>6183431</td>\n",
       "      <td>Vandstand</td>\n",
       "      <td>2.81</td>\n",
       "      <td>m</td>\n",
       "      <td>FagK</td>\n",
       "      <td>GODK</td>\n",
       "    </tr>\n",
       "    <tr>\n",
       "      <th>2016-01-04</th>\n",
       "      <td>520299</td>\n",
       "      <td>Snydebro</td>\n",
       "      <td>Værebro å</td>\n",
       "      <td>Egedal kommune</td>\n",
       "      <td>32</td>\n",
       "      <td>705175</td>\n",
       "      <td>6183431</td>\n",
       "      <td>Vandstand</td>\n",
       "      <td>2.73</td>\n",
       "      <td>m</td>\n",
       "      <td>FagK</td>\n",
       "      <td>GODK</td>\n",
       "    </tr>\n",
       "    <tr>\n",
       "      <th>2016-01-05</th>\n",
       "      <td>520299</td>\n",
       "      <td>Snydebro</td>\n",
       "      <td>Værebro å</td>\n",
       "      <td>Egedal kommune</td>\n",
       "      <td>32</td>\n",
       "      <td>705175</td>\n",
       "      <td>6183431</td>\n",
       "      <td>Vandstand</td>\n",
       "      <td>2.67</td>\n",
       "      <td>m</td>\n",
       "      <td>FagK</td>\n",
       "      <td>GODK</td>\n",
       "    </tr>\n",
       "  </tbody>\n",
       "</table>\n",
       "</div>"
      ],
      "text/plain": [
       "            Stationsnr Stationsnavn StationensLokalitet    Stationsejer  \\\n",
       "Dato                                                                      \n",
       "2016-01-01      520299     Snydebro           Værebro å  Egedal kommune   \n",
       "2016-01-02      520299     Snydebro           Værebro å  Egedal kommune   \n",
       "2016-01-03      520299     Snydebro           Værebro å  Egedal kommune   \n",
       "2016-01-04      520299     Snydebro           Værebro å  Egedal kommune   \n",
       "2016-01-05      520299     Snydebro           Værebro å  Egedal kommune   \n",
       "\n",
       "            GeoZone    Xutm     Yutm  Parameter  Resultat Enhedsnavn  \\\n",
       "Dato                                                                   \n",
       "2016-01-01       32  705175  6183431  Vandstand      2.97          m   \n",
       "2016-01-02       32  705175  6183431  Vandstand      2.90          m   \n",
       "2016-01-03       32  705175  6183431  Vandstand      2.81          m   \n",
       "2016-01-04       32  705175  6183431  Vandstand      2.73          m   \n",
       "2016-01-05       32  705175  6183431  Vandstand      2.67          m   \n",
       "\n",
       "           Kvalitetssikring Kvalitetsstatus  \n",
       "Dato                                         \n",
       "2016-01-01             FagK            GODK  \n",
       "2016-01-02             FagK            GODK  \n",
       "2016-01-03             FagK            GODK  \n",
       "2016-01-04             FagK            GODK  \n",
       "2016-01-05             FagK            GODK  "
      ]
     },
     "execution_count": 23,
     "metadata": {},
     "output_type": "execute_result"
    }
   ],
   "source": [
    "vst = pd.read_csv('VandstandCSV.csv', sep=';', parse_dates=['Dato'], index_col=['Dato'])\n",
    "vst.head()"
   ]
  },
  {
   "cell_type": "markdown",
   "metadata": {},
   "source": [
    "Sådan. Nu er datoen styrende for resten af indholdet.\n",
    "Vi kan også kigge på dato og resultat alene:"
   ]
  },
  {
   "cell_type": "code",
   "execution_count": 24,
   "metadata": {},
   "outputs": [
    {
     "data": {
      "text/plain": [
       "Dato\n",
       "2016-01-01    2.97\n",
       "2016-01-02    2.90\n",
       "2016-01-03    2.81\n",
       "2016-01-04    2.73\n",
       "2016-01-05    2.67\n",
       "Name: Resultat, dtype: float64"
      ]
     },
     "execution_count": 24,
     "metadata": {},
     "output_type": "execute_result"
    }
   ],
   "source": [
    "vst['Resultat'].head()"
   ]
  },
  {
   "cell_type": "markdown",
   "metadata": {},
   "source": [
    "Men lad os komme til det sjove - visualisering. Noget Jupyter er god til, udover at være et fremragende arbejdsprogram, er visualiseringer. Ved at bruge forskellige biblioteker som matplotlib og/eller plotly, kan man skabe flotte visualiseringer.\n",
    "Til vores datasæt, gør matplotlib et ganske fint arbejde. Lad os se:"
   ]
  },
  {
   "cell_type": "code",
   "execution_count": 12,
   "metadata": {},
   "outputs": [
    {
     "data": {
      "text/plain": [
       "<matplotlib.axes._subplots.AxesSubplot at 0x7f8fa8dbc7f0>"
      ]
     },
     "execution_count": 12,
     "metadata": {},
     "output_type": "execute_result"
    },
    {
     "data": {
      "image/png": "[encoded data removed]",
      "text/plain": [
       "<matplotlib.figure.Figure at 0x7f8fa8e249b0>"
      ]
     },
     "metadata": {},
     "output_type": "display_data"
    }
   ],
   "source": [
    "%matplotlib inline\n",
    "\n",
    "import matplotlib.pyplot as plt\n",
    "\n",
    "vst['Resultat'].plot(figsize=(15, 10))"
   ]
  },
  {
   "cell_type": "markdown",
   "metadata": {},
   "source": [
    "Udover diverse grafer, kan vi også kigge lidt på analyser af data:"
   ]
  },
  {
   "cell_type": "code",
   "execution_count": 13,
   "metadata": {},
   "outputs": [
    {
     "data": {
      "text/html": [
       "<div>\n",
       "<style scoped>\n",
       "    .dataframe tbody tr th:only-of-type {\n",
       "        vertical-align: middle;\n",
       "    }\n",
       "\n",
       "    .dataframe tbody tr th {\n",
       "        vertical-align: top;\n",
       "    }\n",
       "\n",
       "    .dataframe thead th {\n",
       "        text-align: right;\n",
       "    }\n",
       "</style>\n",
       "<table border=\"1\" class=\"dataframe\">\n",
       "  <thead>\n",
       "    <tr style=\"text-align: right;\">\n",
       "      <th></th>\n",
       "      <th>Stationsnr</th>\n",
       "      <th>GeoZone</th>\n",
       "      <th>Xutm</th>\n",
       "      <th>Yutm</th>\n",
       "      <th>Resultat</th>\n",
       "    </tr>\n",
       "  </thead>\n",
       "  <tbody>\n",
       "    <tr>\n",
       "      <th>count</th>\n",
       "      <td>363.0</td>\n",
       "      <td>363.0</td>\n",
       "      <td>363.0</td>\n",
       "      <td>363.0</td>\n",
       "      <td>361.000000</td>\n",
       "    </tr>\n",
       "    <tr>\n",
       "      <th>mean</th>\n",
       "      <td>520299.0</td>\n",
       "      <td>32.0</td>\n",
       "      <td>705175.0</td>\n",
       "      <td>6183431.0</td>\n",
       "      <td>2.501994</td>\n",
       "    </tr>\n",
       "    <tr>\n",
       "      <th>std</th>\n",
       "      <td>0.0</td>\n",
       "      <td>0.0</td>\n",
       "      <td>0.0</td>\n",
       "      <td>0.0</td>\n",
       "      <td>0.131125</td>\n",
       "    </tr>\n",
       "    <tr>\n",
       "      <th>min</th>\n",
       "      <td>520299.0</td>\n",
       "      <td>32.0</td>\n",
       "      <td>705175.0</td>\n",
       "      <td>6183431.0</td>\n",
       "      <td>2.310000</td>\n",
       "    </tr>\n",
       "    <tr>\n",
       "      <th>25%</th>\n",
       "      <td>520299.0</td>\n",
       "      <td>32.0</td>\n",
       "      <td>705175.0</td>\n",
       "      <td>6183431.0</td>\n",
       "      <td>2.390000</td>\n",
       "    </tr>\n",
       "    <tr>\n",
       "      <th>50%</th>\n",
       "      <td>520299.0</td>\n",
       "      <td>32.0</td>\n",
       "      <td>705175.0</td>\n",
       "      <td>6183431.0</td>\n",
       "      <td>2.480000</td>\n",
       "    </tr>\n",
       "    <tr>\n",
       "      <th>75%</th>\n",
       "      <td>520299.0</td>\n",
       "      <td>32.0</td>\n",
       "      <td>705175.0</td>\n",
       "      <td>6183431.0</td>\n",
       "      <td>2.590000</td>\n",
       "    </tr>\n",
       "    <tr>\n",
       "      <th>max</th>\n",
       "      <td>520299.0</td>\n",
       "      <td>32.0</td>\n",
       "      <td>705175.0</td>\n",
       "      <td>6183431.0</td>\n",
       "      <td>2.970000</td>\n",
       "    </tr>\n",
       "  </tbody>\n",
       "</table>\n",
       "</div>"
      ],
      "text/plain": [
       "       Stationsnr  GeoZone      Xutm       Yutm    Resultat\n",
       "count       363.0    363.0     363.0      363.0  361.000000\n",
       "mean     520299.0     32.0  705175.0  6183431.0    2.501994\n",
       "std           0.0      0.0       0.0        0.0    0.131125\n",
       "min      520299.0     32.0  705175.0  6183431.0    2.310000\n",
       "25%      520299.0     32.0  705175.0  6183431.0    2.390000\n",
       "50%      520299.0     32.0  705175.0  6183431.0    2.480000\n",
       "75%      520299.0     32.0  705175.0  6183431.0    2.590000\n",
       "max      520299.0     32.0  705175.0  6183431.0    2.970000"
      ]
     },
     "execution_count": 13,
     "metadata": {},
     "output_type": "execute_result"
    }
   ],
   "source": [
    "vst.describe()"
   ]
  },
  {
   "cell_type": "markdown",
   "metadata": {},
   "source": [
    "Igen lidt for meget ikke-brugbar data. Lad os analysere på det der er vigtigt - vandstanden."
   ]
  },
  {
   "cell_type": "code",
   "execution_count": 16,
   "metadata": {},
   "outputs": [
    {
     "data": {
      "text/plain": [
       "count    361.000000\n",
       "mean       2.501994\n",
       "std        0.131125\n",
       "min        2.310000\n",
       "25%        2.390000\n",
       "50%        2.480000\n",
       "75%        2.590000\n",
       "max        2.970000\n",
       "Name: Resultat, dtype: float64"
      ]
     },
     "execution_count": 16,
     "metadata": {},
     "output_type": "execute_result"
    }
   ],
   "source": [
    "vst['Resultat'].describe()"
   ]
  },
  {
   "cell_type": "markdown",
   "metadata": {},
   "source": [
    "Dette var blot en ultra kort introduktion fra min side.\n",
    "Med jupyter notebook, numpy, pandas, geopandas, plotly og mange flere, kan man analysere og visualisere alverdens former for data.\n",
    "Som en lille teaser omkring visualiseringer, vil jeg opfordre Jer til at kigge lidt på [plotly](https://plot.ly/). Graferne kan oven i købet eksporteres som html og javascript, så de let kan integreres på en hjemmeside. "
   ]
  }
 ],
 "metadata": {
  "kernelspec": {
   "display_name": "Python 3",
   "language": "python",
   "name": "python3"
  },
  "language_info": {
   "codemirror_mode": {
    "name": "ipython",
    "version": 3
   },
   "file_extension": ".py",
   "mimetype": "text/x-python",
   "name": "python",
   "nbconvert_exporter": "python",
   "pygments_lexer": "ipython3",
   "version": "3.6.3"
  }
 },
 "nbformat": 4,
 "nbformat_minor": 2
}
